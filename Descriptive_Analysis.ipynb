{
 "cells": [
  {
   "cell_type": "markdown",
   "metadata": {},
   "source": [
    "## Term 4 Capstone"
   ]
  },
  {
   "cell_type": "markdown",
   "metadata": {},
   "source": [
    "Julia Martin and Cassie Chou"
   ]
  },
  {
   "cell_type": "code",
   "execution_count": null,
   "metadata": {},
   "outputs": [],
   "source": [
    "import geopandas as gpd\n",
    "import pandas as pd\n",
    "import altair as alt\n",
    "import folium\n",
    "import matplotlib.pyplot as plt\n",
    "import contextily as cx\n",
    "import numpy as np"
   ]
  },
  {
   "cell_type": "markdown",
   "metadata": {},
   "source": [
    "Read in data from Open Baltimore API 2024 911 Calls for Service"
   ]
  },
  {
   "cell_type": "code",
   "execution_count": null,
   "metadata": {},
   "outputs": [
    {
     "data": {
      "application/vnd.microsoft.datawrangler.viewer.v0+json": {
       "columns": [
        {
         "name": "index",
         "rawType": "int64",
         "type": "integer"
        },
        {
         "name": "callKey",
         "rawType": "object",
         "type": "string"
        },
        {
         "name": "callDateTime",
         "rawType": "object",
         "type": "string"
        },
        {
         "name": "priority",
         "rawType": "object",
         "type": "string"
        },
        {
         "name": "district",
         "rawType": "object",
         "type": "string"
        },
        {
         "name": "description",
         "rawType": "object",
         "type": "string"
        },
        {
         "name": "callNumber",
         "rawType": "object",
         "type": "string"
        },
        {
         "name": "incidentLocation",
         "rawType": "object",
         "type": "string"
        },
        {
         "name": "location",
         "rawType": "object",
         "type": "string"
        },
        {
         "name": "Neighborhood",
         "rawType": "object",
         "type": "string"
        },
        {
         "name": "PoliceDistrict",
         "rawType": "object",
         "type": "string"
        },
        {
         "name": "PolicePost",
         "rawType": "float64",
         "type": "float"
        },
        {
         "name": "CouncilDistrict",
         "rawType": "float64",
         "type": "float"
        },
        {
         "name": "SheriffDistricts",
         "rawType": "object",
         "type": "string"
        },
        {
         "name": "Community_Statistical_Areas",
         "rawType": "object",
         "type": "string"
        },
        {
         "name": "Census_Tracts",
         "rawType": "object",
         "type": "string"
        },
        {
         "name": "VRIZones",
         "rawType": "object",
         "type": "unknown"
        },
        {
         "name": "ZIPCode",
         "rawType": "float64",
         "type": "float"
        },
        {
         "name": "NeedsSync",
         "rawType": "int64",
         "type": "integer"
        },
        {
         "name": "IsDeleted",
         "rawType": "int64",
         "type": "integer"
        },
        {
         "name": "HashedRecord",
         "rawType": "object",
         "type": "string"
        },
        {
         "name": "ESRI_OID",
         "rawType": "int64",
         "type": "integer"
        }
       ],
       "conversionMethod": "pd.DataFrame",
       "ref": "05bc81bb-389e-42cb-8fbf-744780681925",
       "rows": [
        [
         "0",
         "10CC9DA965929F12",
         "2024/01/01 06:16:00+00",
         "Non-Emergency",
         "SE",
         "NOISE COMPLAINT",
         "P240011042",
         "3600 PULASKI HY",
         "3600 PULASKI HY BALTIMORE MD",
         "Baltimore Highlands",
         "Southeastern",
         "223.0",
         "1.0",
         "D6",
         "Orangeville/East Highlandtown",
         "Census Tract 2604.04",
         null,
         "21224.0",
         "0",
         "0",
         "Kitomt4UpJkCoRg0jBbL41PKw1//fHtb9aCjz23s2A0=",
         "1"
        ],
        [
         "1",
         "10CC9DA96592A321",
         "2024/01/01 06:33:00+00",
         "Non-Emergency",
         "ND",
         "Private Tow",
         "P240011065",
         "5000 DENMORE AV",
         "5000 DENMORE AV BALTIMORE MD",
         "Central Park Heights",
         "Northwestern",
         "614.0",
         "6.0",
         "D1",
         "Pimlico/Arlington/Hilltop",
         "Census Tract 2718.02",
         "Northwestern",
         "21215.0",
         "0",
         "0",
         "9AmT5HCrkqTZ8webGYDs+VbQDpTXZ0+lJyL3O+iQ5v4=",
         "2"
        ],
        [
         "2",
         "10CC9DA96592B7B9",
         "2024/01/01 08:01:00+00",
         "Non-Emergency",
         "CD",
         "PRKG COMPLAINT",
         "P240011183",
         "1400 ANCHOR ST",
         "1400 ANCHOR ST BALTIMORE MD",
         "Riverside",
         "Southern",
         "943.0",
         "11.0",
         "D7",
         "Inner Harbor/Federal Hill",
         "Census Tract 2402",
         null,
         "21230.0",
         "0",
         "0",
         "WHIVLB5k+BOGyUmlCPUzCKKr4Bg4f6S4NwrvbgqMkZ0=",
         "3"
        ],
        [
         "3",
         "10CC9DA96592BCBA",
         "2024/01/01 08:23:00+00",
         "Non-Emergency",
         "CD",
         "PRKG COMPLAINT",
         "P240011224",
         "1900 EASTERN AV",
         "1900 EASTERN AV BALTIMORE MD",
         "Fells Point",
         "Southeastern",
         "213.0",
         "1.0",
         "D6",
         "Fells Point",
         "Census Tract 203",
         null,
         "21231.0",
         "0",
         "0",
         "Bvouy/qh83Ejj/1V3Q0AuFs3tnChlZAY4lYsW0Korrs=",
         "4"
        ],
        [
         "4",
         "10CC9DA96592DFE2",
         "2024/01/01 10:53:00+00",
         "Low",
         "SD",
         "CHECK WELL-BEING",
         "P240011605",
         "1600 MARSHALL ST",
         "1600 MARSHALL ST BALTIMORE MD",
         "South Baltimore",
         "Southern",
         "942.0",
         "11.0",
         "D7",
         "Inner Harbor/Federal Hill",
         "Census Tract 2302",
         null,
         "21230.0",
         "0",
         "0",
         "Jo2YzEoa5g+q9cmpQdYzipvP3sQxBYSXg95Rd/97RdM=",
         "5"
        ]
       ],
       "shape": {
        "columns": 21,
        "rows": 5
       }
      },
      "text/html": [
       "<div>\n",
       "<style scoped>\n",
       "    .dataframe tbody tr th:only-of-type {\n",
       "        vertical-align: middle;\n",
       "    }\n",
       "\n",
       "    .dataframe tbody tr th {\n",
       "        vertical-align: top;\n",
       "    }\n",
       "\n",
       "    .dataframe thead th {\n",
       "        text-align: right;\n",
       "    }\n",
       "</style>\n",
       "<table border=\"1\" class=\"dataframe\">\n",
       "  <thead>\n",
       "    <tr style=\"text-align: right;\">\n",
       "      <th></th>\n",
       "      <th>callKey</th>\n",
       "      <th>callDateTime</th>\n",
       "      <th>priority</th>\n",
       "      <th>district</th>\n",
       "      <th>description</th>\n",
       "      <th>callNumber</th>\n",
       "      <th>incidentLocation</th>\n",
       "      <th>location</th>\n",
       "      <th>Neighborhood</th>\n",
       "      <th>PoliceDistrict</th>\n",
       "      <th>...</th>\n",
       "      <th>CouncilDistrict</th>\n",
       "      <th>SheriffDistricts</th>\n",
       "      <th>Community_Statistical_Areas</th>\n",
       "      <th>Census_Tracts</th>\n",
       "      <th>VRIZones</th>\n",
       "      <th>ZIPCode</th>\n",
       "      <th>NeedsSync</th>\n",
       "      <th>IsDeleted</th>\n",
       "      <th>HashedRecord</th>\n",
       "      <th>ESRI_OID</th>\n",
       "    </tr>\n",
       "  </thead>\n",
       "  <tbody>\n",
       "    <tr>\n",
       "      <th>0</th>\n",
       "      <td>10CC9DA965929F12</td>\n",
       "      <td>2024/01/01 06:16:00+00</td>\n",
       "      <td>Non-Emergency</td>\n",
       "      <td>SE</td>\n",
       "      <td>NOISE COMPLAINT</td>\n",
       "      <td>P240011042</td>\n",
       "      <td>3600 PULASKI HY</td>\n",
       "      <td>3600 PULASKI HY BALTIMORE MD</td>\n",
       "      <td>Baltimore Highlands</td>\n",
       "      <td>Southeastern</td>\n",
       "      <td>...</td>\n",
       "      <td>1.0</td>\n",
       "      <td>D6</td>\n",
       "      <td>Orangeville/East Highlandtown</td>\n",
       "      <td>Census Tract 2604.04</td>\n",
       "      <td>NaN</td>\n",
       "      <td>21224.0</td>\n",
       "      <td>0</td>\n",
       "      <td>0</td>\n",
       "      <td>Kitomt4UpJkCoRg0jBbL41PKw1//fHtb9aCjz23s2A0=</td>\n",
       "      <td>1</td>\n",
       "    </tr>\n",
       "    <tr>\n",
       "      <th>1</th>\n",
       "      <td>10CC9DA96592A321</td>\n",
       "      <td>2024/01/01 06:33:00+00</td>\n",
       "      <td>Non-Emergency</td>\n",
       "      <td>ND</td>\n",
       "      <td>Private Tow</td>\n",
       "      <td>P240011065</td>\n",
       "      <td>5000 DENMORE AV</td>\n",
       "      <td>5000 DENMORE AV BALTIMORE MD</td>\n",
       "      <td>Central Park Heights</td>\n",
       "      <td>Northwestern</td>\n",
       "      <td>...</td>\n",
       "      <td>6.0</td>\n",
       "      <td>D1</td>\n",
       "      <td>Pimlico/Arlington/Hilltop</td>\n",
       "      <td>Census Tract 2718.02</td>\n",
       "      <td>Northwestern</td>\n",
       "      <td>21215.0</td>\n",
       "      <td>0</td>\n",
       "      <td>0</td>\n",
       "      <td>9AmT5HCrkqTZ8webGYDs+VbQDpTXZ0+lJyL3O+iQ5v4=</td>\n",
       "      <td>2</td>\n",
       "    </tr>\n",
       "    <tr>\n",
       "      <th>2</th>\n",
       "      <td>10CC9DA96592B7B9</td>\n",
       "      <td>2024/01/01 08:01:00+00</td>\n",
       "      <td>Non-Emergency</td>\n",
       "      <td>CD</td>\n",
       "      <td>PRKG COMPLAINT</td>\n",
       "      <td>P240011183</td>\n",
       "      <td>1400 ANCHOR ST</td>\n",
       "      <td>1400 ANCHOR ST BALTIMORE MD</td>\n",
       "      <td>Riverside</td>\n",
       "      <td>Southern</td>\n",
       "      <td>...</td>\n",
       "      <td>11.0</td>\n",
       "      <td>D7</td>\n",
       "      <td>Inner Harbor/Federal Hill</td>\n",
       "      <td>Census Tract 2402</td>\n",
       "      <td>NaN</td>\n",
       "      <td>21230.0</td>\n",
       "      <td>0</td>\n",
       "      <td>0</td>\n",
       "      <td>WHIVLB5k+BOGyUmlCPUzCKKr4Bg4f6S4NwrvbgqMkZ0=</td>\n",
       "      <td>3</td>\n",
       "    </tr>\n",
       "    <tr>\n",
       "      <th>3</th>\n",
       "      <td>10CC9DA96592BCBA</td>\n",
       "      <td>2024/01/01 08:23:00+00</td>\n",
       "      <td>Non-Emergency</td>\n",
       "      <td>CD</td>\n",
       "      <td>PRKG COMPLAINT</td>\n",
       "      <td>P240011224</td>\n",
       "      <td>1900 EASTERN AV</td>\n",
       "      <td>1900 EASTERN AV BALTIMORE MD</td>\n",
       "      <td>Fells Point</td>\n",
       "      <td>Southeastern</td>\n",
       "      <td>...</td>\n",
       "      <td>1.0</td>\n",
       "      <td>D6</td>\n",
       "      <td>Fells Point</td>\n",
       "      <td>Census Tract 203</td>\n",
       "      <td>NaN</td>\n",
       "      <td>21231.0</td>\n",
       "      <td>0</td>\n",
       "      <td>0</td>\n",
       "      <td>Bvouy/qh83Ejj/1V3Q0AuFs3tnChlZAY4lYsW0Korrs=</td>\n",
       "      <td>4</td>\n",
       "    </tr>\n",
       "    <tr>\n",
       "      <th>4</th>\n",
       "      <td>10CC9DA96592DFE2</td>\n",
       "      <td>2024/01/01 10:53:00+00</td>\n",
       "      <td>Low</td>\n",
       "      <td>SD</td>\n",
       "      <td>CHECK WELL-BEING</td>\n",
       "      <td>P240011605</td>\n",
       "      <td>1600 MARSHALL ST</td>\n",
       "      <td>1600 MARSHALL ST BALTIMORE MD</td>\n",
       "      <td>South Baltimore</td>\n",
       "      <td>Southern</td>\n",
       "      <td>...</td>\n",
       "      <td>11.0</td>\n",
       "      <td>D7</td>\n",
       "      <td>Inner Harbor/Federal Hill</td>\n",
       "      <td>Census Tract 2302</td>\n",
       "      <td>NaN</td>\n",
       "      <td>21230.0</td>\n",
       "      <td>0</td>\n",
       "      <td>0</td>\n",
       "      <td>Jo2YzEoa5g+q9cmpQdYzipvP3sQxBYSXg95Rd/97RdM=</td>\n",
       "      <td>5</td>\n",
       "    </tr>\n",
       "  </tbody>\n",
       "</table>\n",
       "<p>5 rows × 21 columns</p>\n",
       "</div>"
      ],
      "text/plain": [
       "            callKey            callDateTime       priority district  \\\n",
       "0  10CC9DA965929F12  2024/01/01 06:16:00+00  Non-Emergency       SE   \n",
       "1  10CC9DA96592A321  2024/01/01 06:33:00+00  Non-Emergency       ND   \n",
       "2  10CC9DA96592B7B9  2024/01/01 08:01:00+00  Non-Emergency       CD   \n",
       "3  10CC9DA96592BCBA  2024/01/01 08:23:00+00  Non-Emergency       CD   \n",
       "4  10CC9DA96592DFE2  2024/01/01 10:53:00+00            Low       SD   \n",
       "\n",
       "        description  callNumber  incidentLocation  \\\n",
       "0   NOISE COMPLAINT  P240011042   3600 PULASKI HY   \n",
       "1       Private Tow  P240011065   5000 DENMORE AV   \n",
       "2    PRKG COMPLAINT  P240011183    1400 ANCHOR ST   \n",
       "3    PRKG COMPLAINT  P240011224   1900 EASTERN AV   \n",
       "4  CHECK WELL-BEING  P240011605  1600 MARSHALL ST   \n",
       "\n",
       "                        location          Neighborhood PoliceDistrict  ...  \\\n",
       "0   3600 PULASKI HY BALTIMORE MD   Baltimore Highlands   Southeastern  ...   \n",
       "1   5000 DENMORE AV BALTIMORE MD  Central Park Heights   Northwestern  ...   \n",
       "2    1400 ANCHOR ST BALTIMORE MD             Riverside       Southern  ...   \n",
       "3   1900 EASTERN AV BALTIMORE MD           Fells Point   Southeastern  ...   \n",
       "4  1600 MARSHALL ST BALTIMORE MD       South Baltimore       Southern  ...   \n",
       "\n",
       "   CouncilDistrict  SheriffDistricts    Community_Statistical_Areas  \\\n",
       "0              1.0                D6  Orangeville/East Highlandtown   \n",
       "1              6.0                D1      Pimlico/Arlington/Hilltop   \n",
       "2             11.0                D7      Inner Harbor/Federal Hill   \n",
       "3              1.0                D6                    Fells Point   \n",
       "4             11.0                D7      Inner Harbor/Federal Hill   \n",
       "\n",
       "          Census_Tracts      VRIZones  ZIPCode  NeedsSync  IsDeleted  \\\n",
       "0  Census Tract 2604.04           NaN  21224.0          0          0   \n",
       "1  Census Tract 2718.02  Northwestern  21215.0          0          0   \n",
       "2     Census Tract 2402           NaN  21230.0          0          0   \n",
       "3      Census Tract 203           NaN  21231.0          0          0   \n",
       "4     Census Tract 2302           NaN  21230.0          0          0   \n",
       "\n",
       "                                   HashedRecord ESRI_OID  \n",
       "0  Kitomt4UpJkCoRg0jBbL41PKw1//fHtb9aCjz23s2A0=        1  \n",
       "1  9AmT5HCrkqTZ8webGYDs+VbQDpTXZ0+lJyL3O+iQ5v4=        2  \n",
       "2  WHIVLB5k+BOGyUmlCPUzCKKr4Bg4f6S4NwrvbgqMkZ0=        3  \n",
       "3  Bvouy/qh83Ejj/1V3Q0AuFs3tnChlZAY4lYsW0Korrs=        4  \n",
       "4  Jo2YzEoa5g+q9cmpQdYzipvP3sQxBYSXg95Rd/97RdM=        5  \n",
       "\n",
       "[5 rows x 21 columns]"
      ]
     },
     "execution_count": 3,
     "metadata": {},
     "output_type": "execute_result"
    }
   ],
   "source": [
    "calls = pd.read_csv(\"911_Calls_for_Service_2024.csv\")\n",
    "calls.head()"
   ]
  },
  {
   "cell_type": "markdown",
   "metadata": {},
   "source": [
    "Read in geo data for community statistical areas"
   ]
  },
  {
   "cell_type": "code",
   "execution_count": null,
   "metadata": {},
   "outputs": [],
   "source": [
    "csa_data = gpd.read_file(\"test.shp\")\n",
    "csa_data.head()"
   ]
  },
  {
   "cell_type": "code",
   "execution_count": null,
   "metadata": {},
   "outputs": [
    {
     "data": {
      "text/plain": [
       "array(['Non-Emergency', 'Low', 'Medium', 'High', 'Emergency',\n",
       "       'Out of Service'], dtype=object)"
      ]
     },
     "execution_count": 26,
     "metadata": {},
     "output_type": "execute_result"
    }
   ],
   "source": [
    "# unique values in CSA_2010 in calls\n",
    "unique_csa = calls['Community_Statistical_Areas'].unique()\n",
    "unique_csa\n",
    "\n",
    "calls['priority'].unique()"
   ]
  },
  {
   "cell_type": "code",
   "execution_count": 39,
   "metadata": {},
   "outputs": [
    {
     "data": {
      "application/vnd.microsoft.datawrangler.viewer.v0+json": {
       "columns": [
        {
         "name": "index",
         "rawType": "int64",
         "type": "integer"
        },
        {
         "name": "Community_Statistical_Areas",
         "rawType": "object",
         "type": "string"
        },
        {
         "name": "total_calls",
         "rawType": "int64",
         "type": "integer"
        },
        {
         "name": "total_priority",
         "rawType": "int64",
         "type": "integer"
        },
        {
         "name": "priority_score",
         "rawType": "float64",
         "type": "float"
        }
       ],
       "conversionMethod": "pd.DataFrame",
       "ref": "d89f464b-3357-4e33-98b3-ab049cf35cd1",
       "rows": [
        [
         "0",
         "Allendale/Irvington/S. Hilton",
         "37703",
         "58148",
         "1.542264541283187"
        ],
        [
         "1",
         "Beechfield/Ten Hills/West Hills",
         "21162",
         "30614",
         "1.4466496550420564"
        ],
        [
         "2",
         "Belair-Edison",
         "41501",
         "60339",
         "1.453916773089805"
        ],
        [
         "3",
         "Brooklyn/Curtis Bay/Hawkins Point",
         "57421",
         "85067",
         "1.4814614862158444"
        ],
        [
         "4",
         "Canton",
         "9856",
         "15959",
         "1.6192167207792207"
        ]
       ],
       "shape": {
        "columns": 4,
        "rows": 5
       }
      },
      "text/html": [
       "<div>\n",
       "<style scoped>\n",
       "    .dataframe tbody tr th:only-of-type {\n",
       "        vertical-align: middle;\n",
       "    }\n",
       "\n",
       "    .dataframe tbody tr th {\n",
       "        vertical-align: top;\n",
       "    }\n",
       "\n",
       "    .dataframe thead th {\n",
       "        text-align: right;\n",
       "    }\n",
       "</style>\n",
       "<table border=\"1\" class=\"dataframe\">\n",
       "  <thead>\n",
       "    <tr style=\"text-align: right;\">\n",
       "      <th></th>\n",
       "      <th>Community_Statistical_Areas</th>\n",
       "      <th>total_calls</th>\n",
       "      <th>total_priority</th>\n",
       "      <th>priority_score</th>\n",
       "    </tr>\n",
       "  </thead>\n",
       "  <tbody>\n",
       "    <tr>\n",
       "      <th>0</th>\n",
       "      <td>Allendale/Irvington/S. Hilton</td>\n",
       "      <td>37703</td>\n",
       "      <td>58148</td>\n",
       "      <td>1.542265</td>\n",
       "    </tr>\n",
       "    <tr>\n",
       "      <th>1</th>\n",
       "      <td>Beechfield/Ten Hills/West Hills</td>\n",
       "      <td>21162</td>\n",
       "      <td>30614</td>\n",
       "      <td>1.446650</td>\n",
       "    </tr>\n",
       "    <tr>\n",
       "      <th>2</th>\n",
       "      <td>Belair-Edison</td>\n",
       "      <td>41501</td>\n",
       "      <td>60339</td>\n",
       "      <td>1.453917</td>\n",
       "    </tr>\n",
       "    <tr>\n",
       "      <th>3</th>\n",
       "      <td>Brooklyn/Curtis Bay/Hawkins Point</td>\n",
       "      <td>57421</td>\n",
       "      <td>85067</td>\n",
       "      <td>1.481461</td>\n",
       "    </tr>\n",
       "    <tr>\n",
       "      <th>4</th>\n",
       "      <td>Canton</td>\n",
       "      <td>9856</td>\n",
       "      <td>15959</td>\n",
       "      <td>1.619217</td>\n",
       "    </tr>\n",
       "  </tbody>\n",
       "</table>\n",
       "</div>"
      ],
      "text/plain": [
       "         Community_Statistical_Areas  total_calls  total_priority  \\\n",
       "0      Allendale/Irvington/S. Hilton        37703           58148   \n",
       "1    Beechfield/Ten Hills/West Hills        21162           30614   \n",
       "2                      Belair-Edison        41501           60339   \n",
       "3  Brooklyn/Curtis Bay/Hawkins Point        57421           85067   \n",
       "4                             Canton         9856           15959   \n",
       "\n",
       "   priority_score  \n",
       "0        1.542265  \n",
       "1        1.446650  \n",
       "2        1.453917  \n",
       "3        1.481461  \n",
       "4        1.619217  "
      ]
     },
     "execution_count": 39,
     "metadata": {},
     "output_type": "execute_result"
    }
   ],
   "source": [
    "# subset calls data where priority is out of service\n",
    "calls_out_of_service = calls[calls['priority'] == 'Out of Service']\n",
    "calls_out_of_service.head()\n",
    "# create new column for call priority code\n",
    "calls['priority_code'] = np.select(\n",
    "    [calls['priority'] == 'Non-Emergency', calls['priority'] == 'Low', calls['priority'] == 'Medium', calls['priority'] == 'High', calls['priority'] == 'Emergency', calls['priority'] == 'Out of Service'],\n",
    "    [1, 2, 3, 4, 5, 0]\n",
    ")\n",
    "\n",
    "# aggregate calls by CSA and sum of priority code and total number of calls\n",
    "calls_agg = calls.groupby('Community_Statistical_Areas').agg(\n",
    "    total_calls=('priority_code', 'count'),\n",
    "    total_priority=('priority_code', 'sum')\n",
    ").reset_index()\n",
    "calls_agg.head()\n",
    "\n",
    "calls_agg['priority_score'] = calls_agg['total_priority'] / calls_agg['total_calls']\n",
    "calls_agg.head()"
   ]
  },
  {
   "cell_type": "code",
   "execution_count": 41,
   "metadata": {},
   "outputs": [],
   "source": [
    "# merge calls_agg with csa_data\n",
    "csa_data = csa_data.merge(calls_agg, left_on='CSA2010', right_on='Community_Statistical_Areas', how='left')"
   ]
  },
  {
   "cell_type": "code",
   "execution_count": 42,
   "metadata": {},
   "outputs": [
    {
     "data": {
      "image/png": "[encoded data removed]",
      "text/plain": [
       "<Figure size 1000x1000 with 2 Axes>"
      ]
     },
     "metadata": {},
     "output_type": "display_data"
    }
   ],
   "source": [
    "# make a plot of the CSAs\n",
    "csa_data.plot(column ='priority_score', cmap='OrRd', legend=True, figsize=(10, 10))\n",
    "plt.title(\"Community Statistical Areas\")\n",
    "plt.xlabel(\"Longitude\")\n",
    "plt.ylabel(\"Latitude\")\n",
    "plt.show()"
   ]
  }
 ],
 "metadata": {
  "kernelspec": {
   "display_name": "Python 3",
   "language": "python",
   "name": "python3"
  },
  "language_info": {
   "codemirror_mode": {
    "name": "ipython",
    "version": 3
   },
   "file_extension": ".py",
   "mimetype": "text/x-python",
   "name": "python",
   "nbconvert_exporter": "python",
   "pygments_lexer": "ipython3",
   "version": "3.13.1"
  }
 },
 "nbformat": 4,
 "nbformat_minor": 2
}
