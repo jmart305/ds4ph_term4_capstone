{
 "cells": [
  {
   "cell_type": "markdown",
   "id": "1fdcd147",
   "metadata": {},
   "source": [
    "Machine Learning Component -- Cassie Chou and Julia Martin"
   ]
  },
  {
   "cell_type": "code",
   "execution_count": 3,
   "id": "c62fdc1e",
   "metadata": {},
   "outputs": [],
   "source": [
    "import torch\n",
    "import torch.nn as nn\n",
    "import numpy as np\n",
    "import matplotlib.pyplot as plt\n",
    "import pandas as pd\n",
    "from sklearn.preprocessing import LabelEncoder"
   ]
  },
  {
   "cell_type": "code",
   "execution_count": 4,
   "id": "c01148d9",
   "metadata": {},
   "outputs": [],
   "source": [
    "# Read in Data\n",
    "calls = pd.read_csv(\"911_Calls_for_Service_2024.csv\")"
   ]
  },
  {
   "cell_type": "code",
   "execution_count": 5,
   "id": "7cf7d2f0",
   "metadata": {},
   "outputs": [
    {
     "data": {
      "application/vnd.microsoft.datawrangler.viewer.v0+json": {
       "columns": [
        {
         "name": "index",
         "rawType": "int64",
         "type": "integer"
        },
        {
         "name": "callDateTime",
         "rawType": "datetime64[ns, UTC]",
         "type": "unknown"
        },
        {
         "name": "priority",
         "rawType": "int32",
         "type": "integer"
        },
        {
         "name": "description",
         "rawType": "object",
         "type": "string"
        },
        {
         "name": "incidentLocation",
         "rawType": "object",
         "type": "string"
        },
        {
         "name": "Neighborhood",
         "rawType": "object",
         "type": "string"
        },
        {
         "name": "district",
         "rawType": "object",
         "type": "string"
        },
        {
         "name": "Community_Statistical_Areas",
         "rawType": "int32",
         "type": "integer"
        },
        {
         "name": "month",
         "rawType": "int32",
         "type": "integer"
        },
        {
         "name": "day",
         "rawType": "int32",
         "type": "integer"
        },
        {
         "name": "time",
         "rawType": "int32",
         "type": "integer"
        }
       ],
       "conversionMethod": "pd.DataFrame",
       "ref": "b01f65b2-e916-4658-b9d7-f98b06c838f8",
       "rows": [
        [
         "0",
         "2024-01-01 06:16:00+00:00",
         "4",
         "NOISE COMPLAINT",
         "3600 PULASKI HY",
         "Baltimore Highlands",
         "SE",
         "41",
         "1",
         "1",
         "61600"
        ],
        [
         "1",
         "2024-01-01 06:33:00+00:00",
         "4",
         "Private Tow",
         "5000 DENMORE AV",
         "Central Park Heights",
         "ND",
         "44",
         "1",
         "1",
         "63300"
        ],
        [
         "2",
         "2024-01-01 08:01:00+00:00",
         "4",
         "PRKG COMPLAINT",
         "1400 ANCHOR ST",
         "Riverside",
         "CD",
         "29",
         "1",
         "1",
         "80100"
        ],
        [
         "3",
         "2024-01-01 08:23:00+00:00",
         "4",
         "PRKG COMPLAINT",
         "1900 EASTERN AV",
         "Fells Point",
         "CD",
         "15",
         "1",
         "1",
         "82300"
        ],
        [
         "4",
         "2024-01-01 10:53:00+00:00",
         "2",
         "CHECK WELL-BEING",
         "1600 MARSHALL ST",
         "South Baltimore",
         "SD",
         "29",
         "1",
         "1",
         "105300"
        ]
       ],
       "shape": {
        "columns": 10,
        "rows": 5
       }
      },
      "text/html": [
       "<div>\n",
       "<style scoped>\n",
       "    .dataframe tbody tr th:only-of-type {\n",
       "        vertical-align: middle;\n",
       "    }\n",
       "\n",
       "    .dataframe tbody tr th {\n",
       "        vertical-align: top;\n",
       "    }\n",
       "\n",
       "    .dataframe thead th {\n",
       "        text-align: right;\n",
       "    }\n",
       "</style>\n",
       "<table border=\"1\" class=\"dataframe\">\n",
       "  <thead>\n",
       "    <tr style=\"text-align: right;\">\n",
       "      <th></th>\n",
       "      <th>callDateTime</th>\n",
       "      <th>priority</th>\n",
       "      <th>description</th>\n",
       "      <th>incidentLocation</th>\n",
       "      <th>Neighborhood</th>\n",
       "      <th>district</th>\n",
       "      <th>Community_Statistical_Areas</th>\n",
       "      <th>month</th>\n",
       "      <th>day</th>\n",
       "      <th>time</th>\n",
       "    </tr>\n",
       "  </thead>\n",
       "  <tbody>\n",
       "    <tr>\n",
       "      <th>0</th>\n",
       "      <td>2024-01-01 06:16:00+00:00</td>\n",
       "      <td>4</td>\n",
       "      <td>NOISE COMPLAINT</td>\n",
       "      <td>3600 PULASKI HY</td>\n",
       "      <td>Baltimore Highlands</td>\n",
       "      <td>SE</td>\n",
       "      <td>41</td>\n",
       "      <td>1</td>\n",
       "      <td>1</td>\n",
       "      <td>61600</td>\n",
       "    </tr>\n",
       "    <tr>\n",
       "      <th>1</th>\n",
       "      <td>2024-01-01 06:33:00+00:00</td>\n",
       "      <td>4</td>\n",
       "      <td>Private Tow</td>\n",
       "      <td>5000 DENMORE AV</td>\n",
       "      <td>Central Park Heights</td>\n",
       "      <td>ND</td>\n",
       "      <td>44</td>\n",
       "      <td>1</td>\n",
       "      <td>1</td>\n",
       "      <td>63300</td>\n",
       "    </tr>\n",
       "    <tr>\n",
       "      <th>2</th>\n",
       "      <td>2024-01-01 08:01:00+00:00</td>\n",
       "      <td>4</td>\n",
       "      <td>PRKG COMPLAINT</td>\n",
       "      <td>1400 ANCHOR ST</td>\n",
       "      <td>Riverside</td>\n",
       "      <td>CD</td>\n",
       "      <td>29</td>\n",
       "      <td>1</td>\n",
       "      <td>1</td>\n",
       "      <td>80100</td>\n",
       "    </tr>\n",
       "    <tr>\n",
       "      <th>3</th>\n",
       "      <td>2024-01-01 08:23:00+00:00</td>\n",
       "      <td>4</td>\n",
       "      <td>PRKG COMPLAINT</td>\n",
       "      <td>1900 EASTERN AV</td>\n",
       "      <td>Fells Point</td>\n",
       "      <td>CD</td>\n",
       "      <td>15</td>\n",
       "      <td>1</td>\n",
       "      <td>1</td>\n",
       "      <td>82300</td>\n",
       "    </tr>\n",
       "    <tr>\n",
       "      <th>4</th>\n",
       "      <td>2024-01-01 10:53:00+00:00</td>\n",
       "      <td>2</td>\n",
       "      <td>CHECK WELL-BEING</td>\n",
       "      <td>1600 MARSHALL ST</td>\n",
       "      <td>South Baltimore</td>\n",
       "      <td>SD</td>\n",
       "      <td>29</td>\n",
       "      <td>1</td>\n",
       "      <td>1</td>\n",
       "      <td>105300</td>\n",
       "    </tr>\n",
       "  </tbody>\n",
       "</table>\n",
       "</div>"
      ],
      "text/plain": [
       "               callDateTime  priority       description  incidentLocation  \\\n",
       "0 2024-01-01 06:16:00+00:00         4   NOISE COMPLAINT   3600 PULASKI HY   \n",
       "1 2024-01-01 06:33:00+00:00         4       Private Tow   5000 DENMORE AV   \n",
       "2 2024-01-01 08:01:00+00:00         4    PRKG COMPLAINT    1400 ANCHOR ST   \n",
       "3 2024-01-01 08:23:00+00:00         4    PRKG COMPLAINT   1900 EASTERN AV   \n",
       "4 2024-01-01 10:53:00+00:00         2  CHECK WELL-BEING  1600 MARSHALL ST   \n",
       "\n",
       "           Neighborhood district  Community_Statistical_Areas  month  day  \\\n",
       "0   Baltimore Highlands       SE                           41      1    1   \n",
       "1  Central Park Heights       ND                           44      1    1   \n",
       "2             Riverside       CD                           29      1    1   \n",
       "3           Fells Point       CD                           15      1    1   \n",
       "4       South Baltimore       SD                           29      1    1   \n",
       "\n",
       "     time  \n",
       "0   61600  \n",
       "1   63300  \n",
       "2   80100  \n",
       "3   82300  \n",
       "4  105300  "
      ]
     },
     "execution_count": 5,
     "metadata": {},
     "output_type": "execute_result"
    }
   ],
   "source": [
    "# Select relevant columns\n",
    "calls = calls[['callDateTime', 'priority', 'description', 'incidentLocation', 'Neighborhood', 'district', 'Community_Statistical_Areas']]\n",
    "\n",
    "# Convert callDateTime to Month, Day, time format\n",
    "calls['callDateTime'] = pd.to_datetime(calls['callDateTime'], format=\"%Y/%m/%d %H:%M:%S%z\")\n",
    "calls[\"month\"] = calls[\"callDateTime\"].dt.month       # 1 (int)\n",
    "calls[\"day\"] = calls[\"callDateTime\"].dt.day           # 1 (int)\n",
    "calls[\"time\"] = calls[\"callDateTime\"].dt.strftime('%H%M%S').astype(int)\n",
    "\n",
    "# Encode categorical variables\n",
    "le_priority = LabelEncoder()\n",
    "calls['priority'] = le_priority.fit_transform(calls['priority'])\n",
    "le_csa = LabelEncoder()\n",
    "calls['Community_Statistical_Areas'] = le_csa.fit_transform(calls['Community_Statistical_Areas'])\n",
    "\n",
    "# Remove NA Values\n",
    "calls.dropna(inplace = True)\n",
    "calls.head(5)"
   ]
  },
  {
   "cell_type": "markdown",
   "id": "08886ce1",
   "metadata": {},
   "source": [
    "Prepare Data for Machine Learning"
   ]
  },
  {
   "cell_type": "code",
   "execution_count": 6,
   "id": "0e18d819",
   "metadata": {},
   "outputs": [],
   "source": [
    "n = calls.shape[0]\n",
    "\n",
    "# Split into Train/Test Fraction\n",
    "trainFraction = 0.6\n",
    "sample = np.random.uniform(size = n) < trainFraction\n",
    "train_data = calls[sample]\n",
    "test_data = calls[~sample]\n",
    "\n",
    "# X Train/Test\n",
    "features = ['month', 'day', 'time', 'Community_Statistical_Areas']\n",
    "X_train = torch.from_numpy(train_data[features].astype(np.float32).to_numpy())\n",
    "X_test = torch.from_numpy(test_data[features].astype(np.float32).to_numpy())\n",
    "\n",
    "# Y Train/Test\n",
    "Y_train = torch.tensor(train_data['priority'].values, dtype=torch.long)\n",
    "Y_test = test_data['priority'].values"
   ]
  },
  {
   "cell_type": "code",
   "execution_count": 44,
   "id": "a9453889",
   "metadata": {},
   "outputs": [
    {
     "name": "stdout",
     "output_type": "stream",
     "text": [
      "PriorityPredictor(\n",
      "  (layer1): Linear(in_features=4, out_features=50, bias=True)\n",
      "  (layer2): Linear(in_features=50, out_features=20, bias=True)\n",
      "  (output): Linear(in_features=20, out_features=6, bias=True)\n",
      ")\n"
     ]
    }
   ],
   "source": [
    "# Prep Model\n",
    "class PriorityPredictor(nn.Module):\n",
    "    def __init__(self, input_size):\n",
    "        super().__init__()\n",
    "        self.layer1 = nn.Linear(input_size, 50)  # 1 hidden layer, 50 nodes\n",
    "        self.layer2 = nn.Linear(50, 20)  # 1 hidden layer, 50 nodes\n",
    "        self.output = nn.Linear(20, 6)           # Output layer (priority prediction)\n",
    "        \n",
    "    def forward(self, x):\n",
    "        x = torch.relu(self.layer1(x))  # ReLU activation\n",
    "        x = torch.relu(self.layer2(x))  # ReLU activation\n",
    "        x = self.output(x)\n",
    "        return x\n",
    "\n",
    "# Initialize Model\n",
    "model = PriorityPredictor(input_size=X_train.shape[1])\n",
    "print(model)"
   ]
  },
  {
   "cell_type": "code",
   "execution_count": 46,
   "id": "223ca261",
   "metadata": {},
   "outputs": [
    {
     "name": "stdout",
     "output_type": "stream",
     "text": [
      "Epoch 10, Loss: 2994.1970\n",
      "Epoch 20, Loss: 2405.6611\n",
      "Epoch 30, Loss: 1882.8325\n",
      "Epoch 40, Loss: 1893.5414\n",
      "Epoch 50, Loss: 1742.5376\n",
      "Epoch 60, Loss: 1639.6698\n",
      "Epoch 70, Loss: 1553.6205\n",
      "Epoch 80, Loss: 1476.5256\n",
      "Epoch 90, Loss: 1400.9222\n",
      "Epoch 100, Loss: 1330.1730\n",
      "Epoch 110, Loss: 1265.8051\n",
      "Epoch 120, Loss: 1204.4348\n",
      "Epoch 130, Loss: 1142.5413\n",
      "Epoch 140, Loss: 1079.8585\n",
      "Epoch 150, Loss: 1020.0089\n",
      "Epoch 160, Loss: 963.0158\n",
      "Epoch 170, Loss: 900.1150\n",
      "Epoch 180, Loss: 841.3658\n",
      "Epoch 190, Loss: 783.5968\n",
      "Epoch 200, Loss: 726.9319\n",
      "Epoch 210, Loss: 665.1627\n",
      "Epoch 220, Loss: 602.8495\n",
      "Epoch 230, Loss: 546.2654\n",
      "Epoch 240, Loss: 486.7184\n",
      "Epoch 250, Loss: 431.7891\n",
      "Epoch 260, Loss: 372.8779\n",
      "Epoch 270, Loss: 306.5300\n",
      "Epoch 280, Loss: 250.4577\n",
      "Epoch 290, Loss: 192.4089\n",
      "Epoch 300, Loss: 130.5642\n",
      "Epoch 310, Loss: 66.4200\n",
      "Epoch 320, Loss: 10.0705\n",
      "Epoch 330, Loss: 13.8150\n",
      "Epoch 340, Loss: 9.7341\n",
      "Epoch 350, Loss: 7.8528\n",
      "Epoch 360, Loss: 5.4890\n",
      "Epoch 370, Loss: 4.2396\n",
      "Epoch 380, Loss: 9.2644\n",
      "Epoch 390, Loss: 11.3577\n",
      "Epoch 400, Loss: 10.5143\n",
      "Epoch 410, Loss: 11.8049\n",
      "Epoch 420, Loss: 13.0949\n",
      "Epoch 430, Loss: 10.2836\n",
      "Epoch 440, Loss: 7.6265\n",
      "Epoch 450, Loss: 8.8100\n",
      "Epoch 460, Loss: 5.5031\n",
      "Epoch 470, Loss: 7.3404\n",
      "Epoch 480, Loss: 10.1661\n",
      "Epoch 490, Loss: 14.1784\n",
      "Epoch 500, Loss: 19.3325\n"
     ]
    }
   ],
   "source": [
    "# Loss and optimizer\n",
    "criterion = torch.nn.CrossEntropyLoss() # Cross Entropy for Classification\n",
    "optimizer = torch.optim.Adam(model.parameters(), lr=0.0001)\n",
    "\n",
    "# Train for 10 epochs\n",
    "epochs = 500\n",
    "for epoch in range(epochs):\n",
    "    optimizer.zero_grad()\n",
    "    outputs = model(X_train)\n",
    "    loss = criterion(outputs, Y_train)\n",
    "    loss.backward()\n",
    "    optimizer.step()\n",
    "    \n",
    "    if (epoch+1) % 10 == 0:\n",
    "        print(f'Epoch {epoch+1}, Loss: {loss.item():.4f}')\n"
   ]
  },
  {
   "cell_type": "code",
   "execution_count": 47,
   "id": "2e892b97",
   "metadata": {},
   "outputs": [],
   "source": [
    "model.eval()\n",
    "with torch.no_grad():\n",
    "    logits = model(X_test)\n",
    "    probs = torch.softmax(logits, dim = 1)\n",
    "    preds = torch.argmax(probs, dim = 1)\n"
   ]
  },
  {
   "cell_type": "code",
   "execution_count": 48,
   "id": "c630e419",
   "metadata": {},
   "outputs": [
    {
     "name": "stdout",
     "output_type": "stream",
     "text": [
      "0            \n",
      "Non-Emergency    662060\n",
      "Low                 271\n",
      "Name: count, dtype: int64\n",
      "0             \n",
      "Non-Emergency     443242\n",
      "Low               111805\n",
      "Medium             85537\n",
      "High               21577\n",
      "Emergency            115\n",
      "Out of Service        55\n",
      "Name: count, dtype: int64\n",
      "0             \n",
      "Non-Emergency     1108450\n",
      "Low                278775\n",
      "Medium             213464\n",
      "High                53525\n",
      "Emergency             257\n",
      "Out of Service        106\n",
      "Name: count, dtype: int64\n"
     ]
    }
   ],
   "source": [
    "# Get Proportions of Each Prediction Class\n",
    "preds_labeled = pd.DataFrame(le_priority.inverse_transform(preds.numpy()))\n",
    "print(preds_labeled.value_counts())\n",
    "\n",
    "# Get Proportions of Each Prediction Class\n",
    "counts_test = pd.DataFrame(le_priority.inverse_transform(Y_test))\n",
    "print(counts_test.value_counts())\n",
    "\n",
    "# Proportions of Each Class in Original Data\n",
    "category_counts = pd.DataFrame(le_priority.inverse_transform(calls['priority'])).value_counts()\n",
    "print(category_counts)"
   ]
  },
  {
   "cell_type": "code",
   "execution_count": 49,
   "id": "6f8c263c",
   "metadata": {},
   "outputs": [
    {
     "data": {
      "text/plain": [
       "0.6689646113499141"
      ]
     },
     "execution_count": 49,
     "metadata": {},
     "output_type": "execute_result"
    }
   ],
   "source": [
    "np.mean(preds.numpy() == Y_test)"
   ]
  }
 ],
 "metadata": {
  "kernelspec": {
   "display_name": "Python 3",
   "language": "python",
   "name": "python3"
  },
  "language_info": {
   "codemirror_mode": {
    "name": "ipython",
    "version": 3
   },
   "file_extension": ".py",
   "mimetype": "text/x-python",
   "name": "python",
   "nbconvert_exporter": "python",
   "pygments_lexer": "ipython3",
   "version": "3.10.11"
  }
 },
 "nbformat": 4,
 "nbformat_minor": 5
}
